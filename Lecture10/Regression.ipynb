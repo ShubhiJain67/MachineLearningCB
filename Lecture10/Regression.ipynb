{
 "cells": [
  {
   "cell_type": "code",
   "execution_count": 1,
   "metadata": {},
   "outputs": [],
   "source": [
    "import torch\n",
    "import torch.nn.functional as F\n",
    "from torch.autograd import Variable\n",
    "import matplotlib.pyplot as plt\n",
    "%matplotlib inline"
   ]
  },
  {
   "cell_type": "code",
   "execution_count": 2,
   "metadata": {},
   "outputs": [
    {
     "name": "stdout",
     "output_type": "stream",
     "text": [
      "torch.Size([100, 1])\n",
      "torch.Size([100])\n",
      "torch.Size([1, 100])\n"
     ]
    }
   ],
   "source": [
    "#torch.linspace(-1, 1, 100) has the shape=(100,)\n",
    "#inorder to expand the dimension we use unsqueeze\n",
    "x1=torch.linspace(-1, 1, 100)\n",
    "x = torch.unsqueeze(torch.linspace(-1, 1, 100), dim=1)  # x data (tensor), shape=(100, 1)\n",
    "x2 = torch.unsqueeze(torch.linspace(-1, 1, 100), dim=0) \n",
    "#.rand generates random tensor of the size of x\n",
    "y = x.pow(2) + 0.2*torch.rand(x.size()) \n",
    "print x.size()\n",
    "print x1.size()\n",
    "print x2.size()"
   ]
  },
  {
   "cell_type": "code",
   "execution_count": 3,
   "metadata": {},
   "outputs": [],
   "source": [
    "#in good ractice it is good to convert to variable for backword complatibility\n",
    "#in new version backprop can be done directly on tensor\n",
    "X = Variable(x, requires_grad=True)\n",
    "#Y has the output value we donot want it to be diffrentiable\n",
    "Y = Variable(y)"
   ]
  },
  {
   "cell_type": "code",
   "execution_count": 4,
   "metadata": {},
   "outputs": [],
   "source": [
    "#the three main functions\n",
    "#initialization\n",
    "#forward pass\n",
    "#backword pass usually it is not necessary to write it but if u want to add something else then u need to rewrite it\n",
    "#base class of the neural network--  torch.nn.Module\n",
    "#Module has a forward which is empty\n",
    "#Module has a backward method already writtem\n",
    "class Net(torch.nn.Module):\n",
    "    def __init__(self, n_feature, n_hidden1, n_hidden2, n_output):\n",
    "        #to go to the parent class super(Net, self)\n",
    "        #if we donnot write it then the whole of init gets overridden\n",
    "        super(Net, self).__init__()\n",
    "        #torch.nn.Linear - \n",
    "        self.hidden1 = torch.nn.Linear(n_feature, n_hidden1)   # hidden layer (input size,output size)\n",
    "        self.hidden2 = torch.nn.Linear(n_hidden1,n_hidden2)\n",
    "        self.output = torch.nn.Linear(n_hidden2, n_output)   # output layer\n",
    "        \n",
    "\n",
    "    def forward(self, x):\n",
    "        x = F.relu(self.hidden1(x))      # activation function for hidden layer\n",
    "        x = F.relu(self.hidden2(x))\n",
    "        x = self.output(x)             # linear output\n",
    "        \n",
    "        #when you have a bunch of layes you append all of them in a list and thne perform activation functio on all of them\n",
    "\n",
    "        \n",
    "        return x"
   ]
  },
  {
   "cell_type": "code",
   "execution_count": 5,
   "metadata": {},
   "outputs": [
    {
     "name": "stdout",
     "output_type": "stream",
     "text": [
      "Net(\n",
      "  (hidden1): Linear(in_features=1, out_features=10, bias=True)\n",
      "  (hidden2): Linear(in_features=10, out_features=6, bias=True)\n",
      "  (output): Linear(in_features=6, out_features=1, bias=True)\n",
      ")\n"
     ]
    }
   ],
   "source": [
    "#constructor is called\n",
    "net = Net(n_feature=1, n_hidden1=10, n_hidden2=6, n_output=1)     # define the network\n",
    "print(net)  # prints the network architecture\n",
    "#bias is the constant b when it is true the bias is being considered"
   ]
  },
  {
   "cell_type": "code",
   "execution_count": 6,
   "metadata": {},
   "outputs": [],
   "source": [
    "#SGD- stochastic gradient descent\n",
    "#we can take the optimzer as SGD or Adam as well\n",
    "#Aadam is a good optimizer\n",
    "\n",
    "optimizer = torch.optim.Adam(net.parameters(), lr=0.2) #lr is learning rate\n",
    "loss_func = torch.nn.MSELoss() "
   ]
  },
  {
   "cell_type": "code",
   "execution_count": 7,
   "metadata": {},
   "outputs": [
    {
     "data": {
      "image/png": "[encoded data removed]",
      "text/plain": [
       "<Figure size 432x288 with 1 Axes>"
      ]
     },
     "metadata": {},
     "output_type": "display_data"
    }
   ],
   "source": [
    "#plt.ion()   # something about plotting #interactive plotting\n",
    "#2 is te number of epochs\n",
    "for t in range(200):\n",
    "    prediction = net(X)     # input x and predict based on x\n",
    "\n",
    "    loss = loss_func(prediction, Y)     # must be (1. nn output, 2. target)\n",
    "    #.zero grad clears the gradients for the next training step (clears the buffer fo the new gradients to get stored into it)\n",
    "    optimizer.zero_grad()   # clear gradients for next train\n",
    "    #applys backprop and updates the gradiends\n",
    "    loss.backward()         # backpropagation, compute gradients\n",
    "    #all the existing variable with gradients will be upgraded on the basis of their gradients\n",
    "    optimizer.step()        # apply gradients\n",
    "\n",
    "    if t % 5 == 0:\n",
    "        # plot and show learning process\n",
    "        plt.cla()\n",
    "        plt.scatter(X.data.numpy(), Y.data.numpy())\n",
    "        plt.plot(X.data.numpy(), prediction.data.numpy(), 'r-', lw=5)\n",
    "        plt.text(0.5, 0, 'Loss=%.4f' % loss.data.numpy(), fontdict={'size': 20, 'color':  'red'})\n",
    "        #plt.pause(0.1)\n",
    "\n",
    "#plt.ioff()\n",
    "# plt.show()"
   ]
  },
  {
   "cell_type": "code",
   "execution_count": null,
   "metadata": {},
   "outputs": [],
   "source": []
  }
 ],
 "metadata": {
  "kernelspec": {
   "display_name": "Python 2",
   "language": "python",
   "name": "python2"
  },
  "language_info": {
   "codemirror_mode": {
    "name": "ipython",
    "version": 2
   },
   "file_extension": ".py",
   "mimetype": "text/x-python",
   "name": "python",
   "nbconvert_exporter": "python",
   "pygments_lexer": "ipython2",
   "version": "2.7.12"
  }
 },
 "nbformat": 4,
 "nbformat_minor": 2
}
