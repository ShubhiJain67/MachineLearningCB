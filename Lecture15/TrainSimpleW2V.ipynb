{
 "cells": [
  {
   "cell_type": "code",
   "execution_count": 27,
   "metadata": {},
   "outputs": [],
   "source": [
    "import numpy as np\n",
    "import gensim\n",
    "#import re\n",
    "from matplotlib import pyplot as plt\n",
    "%matplotlib inline\n",
    "import seaborn as sns"
   ]
  },
  {
   "cell_type": "code",
   "execution_count": 28,
   "metadata": {},
   "outputs": [],
   "source": [
    "f = open('../data/Text/Shakespear/shakespear.txt')\n",
    "ds = f.read()\n",
    "f.close()"
   ]
  },
  {
   "cell_type": "code",
   "execution_count": 29,
   "metadata": {},
   "outputs": [],
   "source": [
    "#all these char are replaced by an empty string,basically they are removed\n",
    "syms = ['\"', ';', ':', ',', '?', '!', '&', '(', ')', '[', ']', \"'\", '$', '@', '~', '-', '#']\n",
    "#these are replaced by a space\n",
    "syms_2 = ['\\n', '\\t', '_', '>', '<']"
   ]
  },
  {
   "cell_type": "code",
   "execution_count": 30,
   "metadata": {
    "scrolled": false
   },
   "outputs": [],
   "source": [
    "data = []\n",
    "#entire text is separated by a full stop\n",
    "for ix in ds.split('.')[:]:\n",
    "    val = ix\n",
    "    for s in syms:\n",
    "        val = val.strip().replace(s, '')\n",
    "    for s in syms_2:\n",
    "        val = val.strip().replace(s, ' ')\n",
    "        #very small and very large values are replaced\n",
    "    if len(val) < 500 and len(val) > 40:\n",
    "        data.append(val.lower())"
   ]
  },
  {
   "cell_type": "code",
   "execution_count": 31,
   "metadata": {},
   "outputs": [],
   "source": [
    "#f = np.unique(data, return_counts=True)\n",
    "#print f"
   ]
  },
  {
   "cell_type": "code",
   "execution_count": 32,
   "metadata": {},
   "outputs": [],
   "source": [
    "#plt.figure(0, figsize=(10, 10))\n",
    "#plt.plot(f[0], f[1])"
   ]
  },
  {
   "cell_type": "code",
   "execution_count": 33,
   "metadata": {
    "scrolled": false
   },
   "outputs": [],
   "source": [
    "train = []\n",
    "#when ever split is called without any arameter the words are seperated\n",
    "#we need to pass the data in a wrord list formt in gensim\n",
    "for ix in data[:]:\n",
    "    train.append(ix.lower().split())\n",
    "    #print '-'*80"
   ]
  },
  {
   "cell_type": "code",
   "execution_count": 34,
   "metadata": {},
   "outputs": [],
   "source": [
    "#number fo workers is number of threads (parallisation)\n",
    "model = gensim.models.Word2Vec(train, workers=6, iter=20)\n",
    "#model file is a binary file"
   ]
  },
  {
   "cell_type": "code",
   "execution_count": 35,
   "metadata": {},
   "outputs": [
    {
     "name": "stderr",
     "output_type": "stream",
     "text": [
      "/home/shubhijain/.local/lib/python2.7/site-packages/ipykernel_launcher.py:1: DeprecationWarning: Call to deprecated `similar_by_word` (Method will be removed in 4.0.0, use self.wv.similar_by_word() instead).\n",
      "  \"\"\"Entry point for launching an IPython kernel.\n"
     ]
    },
    {
     "data": {
      "text/plain": [
       "[('affair', 0.7268182039260864),\n",
       " ('problem', 0.6781928539276123),\n",
       " ('episode', 0.5876146554946899),\n",
       " ('investigation', 0.5873347520828247),\n",
       " ('chain', 0.5864372253417969),\n",
       " ('business', 0.5827729105949402),\n",
       " ('matter', 0.561525821685791),\n",
       " ('press', 0.5610217452049255),\n",
       " ('series', 0.5607579350471497),\n",
       " ('case', 0.5592632293701172)]"
      ]
     },
     "execution_count": 35,
     "metadata": {},
     "output_type": "execute_result"
    }
   ],
   "source": [
    "model.similar_by_word('mystery')"
   ]
  },
  {
   "cell_type": "code",
   "execution_count": 36,
   "metadata": {},
   "outputs": [],
   "source": [
    "w = 'horse car engine travel'.split()\n",
    "# model.similarity?"
   ]
  },
  {
   "cell_type": "code",
   "execution_count": 37,
   "metadata": {},
   "outputs": [
    {
     "name": "stderr",
     "output_type": "stream",
     "text": [
      "/home/shubhijain/.local/lib/python2.7/site-packages/ipykernel_launcher.py:5: DeprecationWarning: Call to deprecated `similarity` (Method will be removed in 4.0.0, use self.wv.similarity() instead).\n",
      "  \"\"\"\n"
     ]
    }
   ],
   "source": [
    "m = np.zeros((len(w), len(w)))\n",
    "for ix in range(len(w)):\n",
    "    for wx in range(len(w)):\n",
    "        #for each element we store the similarity score for each element with each element\n",
    "        m[ix, wx] = model.similarity(w[ix], w[wx])"
   ]
  },
  {
   "cell_type": "code",
   "execution_count": 38,
   "metadata": {},
   "outputs": [
    {
     "name": "stdout",
     "output_type": "stream",
     "text": [
      "['horse', 'car', 'engine', 'travel']\n"
     ]
    },
    {
     "data": {
      "text/plain": [
       "<matplotlib.axes._subplots.AxesSubplot at 0x7fe1d54b4090>"
      ]
     },
     "execution_count": 38,
     "metadata": {},
     "output_type": "execute_result"
    },
    {
     "data": {
      "image/png": "[encoded data removed]",
      "text/plain": [
       "<Figure size 432x288 with 2 Axes>"
      ]
     },
     "metadata": {},
     "output_type": "display_data"
    }
   ],
   "source": [
    "print w\n",
    "sns.heatmap(m)"
   ]
  },
  {
   "cell_type": "code",
   "execution_count": 39,
   "metadata": {},
   "outputs": [
    {
     "data": {
      "text/plain": [
       "array([1.74147865, 2.05719239, 1.73837519, 1.69433284])"
      ]
     },
     "execution_count": 39,
     "metadata": {},
     "output_type": "execute_result"
    }
   ],
   "source": [
    "m.sum(axis=0)"
   ]
  },
  {
   "cell_type": "code",
   "execution_count": 40,
   "metadata": {},
   "outputs": [],
   "source": [
    "import spacy\n",
    "#spacy.load?"
   ]
  },
  {
   "cell_type": "code",
   "execution_count": 41,
   "metadata": {},
   "outputs": [],
   "source": [
    "#glove is a data set-GLOBAL VECTORS (trained over 6 million words) its word length is 100\n",
    "word_embeddings = spacy.load('en', vectors='glove.6B.300d.txt')"
   ]
  },
  {
   "cell_type": "code",
   "execution_count": 61,
   "metadata": {},
   "outputs": [
    {
     "name": "stdout",
     "output_type": "stream",
     "text": [
      "[[-2.77933049e+00]\n",
      " [ 9.62309778e-01]\n",
      " [ 3.52229309e+00]\n",
      " [ 8.30319524e-01]\n",
      " [ 3.87283134e+00]\n",
      " [-5.44438601e-01]\n",
      " [-4.84119028e-01]\n",
      " [ 1.72013605e+00]\n",
      " [ 3.22194815e-01]\n",
      " [ 1.36324811e+00]\n",
      " [ 1.19217420e+00]\n",
      " [-1.20870686e+00]\n",
      " [ 1.02263021e+00]\n",
      " [-1.37045765e+00]\n",
      " [-1.49330831e+00]\n",
      " [ 1.67875183e+00]\n",
      " [ 1.70461118e-01]\n",
      " [-1.67501533e+00]\n",
      " [-6.17178082e-02]\n",
      " [ 2.68307972e+00]\n",
      " [ 1.76389605e-01]\n",
      " [ 1.36839962e+00]\n",
      " [ 2.76607609e+00]\n",
      " [ 3.15783501e+00]\n",
      " [-2.39867330e+00]\n",
      " [-1.54991841e+00]\n",
      " [-9.79093015e-01]\n",
      " [-5.61284304e-01]\n",
      " [ 5.42019606e-01]\n",
      " [-1.78987205e-01]\n",
      " [ 2.57267761e+00]\n",
      " [-6.63191259e-01]\n",
      " [-4.85075355e-01]\n",
      " [-1.67551148e+00]\n",
      " [-1.64025560e-01]\n",
      " [-4.31711406e-01]\n",
      " [-3.22239709e+00]\n",
      " [ 4.05230665e+00]\n",
      " [-5.00178480e+00]\n",
      " [ 1.01608503e+00]\n",
      " [ 8.84964585e-01]\n",
      " [-1.49029821e-01]\n",
      " [ 4.34480476e+00]\n",
      " [-5.13068557e-01]\n",
      " [-4.53103304e+00]\n",
      " [ 3.26352745e-01]\n",
      " [ 1.04753530e+00]\n",
      " [-2.75907397e-01]\n",
      " [ 7.68843293e-01]\n",
      " [-1.45202792e+00]\n",
      " [-5.43428957e-01]\n",
      " [-2.16257787e+00]\n",
      " [ 5.10315299e-01]\n",
      " [-1.53451574e+00]\n",
      " [-5.85001171e-01]\n",
      " [-3.19274068e-01]\n",
      " [-5.53799689e-01]\n",
      " [ 3.30507010e-02]\n",
      " [-2.18494368e+00]\n",
      " [ 5.93475223e-01]\n",
      " [ 1.06956041e+00]\n",
      " [-1.51526392e+00]\n",
      " [ 1.10915220e+00]\n",
      " [ 4.20296192e-02]\n",
      " [-5.37478256e+00]\n",
      " [-1.16406631e+00]\n",
      " [ 1.65869820e+00]\n",
      " [ 1.15799093e+00]\n",
      " [-3.42724890e-01]\n",
      " [ 2.12216687e+00]\n",
      " [-8.59569907e-01]\n",
      " [-9.85057354e-01]\n",
      " [-9.19750154e-01]\n",
      " [-1.10033059e+00]\n",
      " [-6.72075510e-01]\n",
      " [-1.24786544e+00]\n",
      " [ 5.84378541e-01]\n",
      " [-1.62258434e+00]\n",
      " [-1.19183922e+00]\n",
      " [-2.68573070e+00]\n",
      " [-4.85636413e-01]\n",
      " [ 1.29581702e+00]\n",
      " [-2.73440480e+00]\n",
      " [ 2.60144377e+00]\n",
      " [ 2.33149230e-01]\n",
      " [ 1.32374287e+00]\n",
      " [-5.75156212e-01]\n",
      " [ 2.13661581e-01]\n",
      " [-3.17755032e+00]\n",
      " [ 5.07604122e-01]\n",
      " [-2.48701286e+00]\n",
      " [-2.48424363e+00]\n",
      " [ 1.48343241e+00]\n",
      " [ 1.25293231e+00]\n",
      " [-7.17996120e-01]\n",
      " [ 5.95711231e-01]\n",
      " [ 2.57495975e+00]\n",
      " [ 7.64244378e-01]\n",
      " [-2.43141365e+00]\n",
      " [ 3.44529331e-01]\n",
      " [ 3.96481133e+00]\n",
      " [-1.11060217e-01]\n",
      " [-9.57307577e-01]\n",
      " [-1.77223468e+00]\n",
      " [-2.10889196e+00]\n",
      " [-6.16337180e-01]\n",
      " [ 1.48570132e+00]\n",
      " [-3.13025284e+00]\n",
      " [-1.50313354e+00]\n",
      " [ 3.31935477e+00]\n",
      " [ 1.25854445e+00]\n",
      " [ 3.29183310e-01]\n",
      " [ 3.95711005e-01]\n",
      " [ 3.34241819e+00]\n",
      " [ 4.76423860e-01]\n",
      " [-2.32749414e+00]\n",
      " [ 1.58180881e+00]\n",
      " [ 1.86749220e+00]\n",
      " [ 5.28708398e-01]\n",
      " [ 1.03928655e-01]\n",
      " [ 1.23437822e-01]\n",
      " [ 2.59907937e+00]\n",
      " [-1.95907399e-01]\n",
      " [ 1.60972250e+00]\n",
      " [-2.67482686e+00]\n",
      " [ 2.58144808e+00]\n",
      " [ 5.28991044e-01]\n",
      " [ 1.97045922e-01]\n",
      " [-8.51325750e-01]\n",
      " [-5.34047246e-01]\n",
      " [-4.22735214e-02]\n",
      " [-8.94544199e-02]\n",
      " [-1.92734063e-01]\n",
      " [-3.21397066e-01]\n",
      " [ 5.01358509e-03]\n",
      " [ 6.53269172e-01]\n",
      " [ 1.04930389e+00]\n",
      " [ 2.25257054e-01]\n",
      " [-3.53119969e-02]\n",
      " [-7.04726160e-01]\n",
      " [ 9.35463667e-01]\n",
      " [ 2.70462370e+00]\n",
      " [-6.19767606e-03]\n",
      " [-1.11302912e-01]\n",
      " [-5.08722544e-01]\n",
      " [ 6.67549729e-01]\n",
      " [-2.95278579e-01]\n",
      " [-3.53635699e-02]\n",
      " [-3.40654910e-01]\n",
      " [ 6.94544375e-01]\n",
      " [ 4.00444329e-01]\n",
      " [ 6.40074909e-02]\n",
      " [-3.54316473e-01]\n",
      " [-4.08828229e-01]\n",
      " [-6.57727718e-01]\n",
      " [ 6.64151311e-01]\n",
      " [-1.60132408e-01]\n",
      " [-1.57674015e+00]\n",
      " [ 7.54383504e-02]\n",
      " [-8.79857242e-02]\n",
      " [-3.07883710e-01]\n",
      " [ 1.06379771e+00]\n",
      " [ 4.18522239e-01]\n",
      " [-5.74644327e-01]\n",
      " [ 3.62408221e-01]\n",
      " [ 6.56262159e-01]\n",
      " [ 2.90233016e-01]\n",
      " [ 3.64636779e-02]\n",
      " [-8.80136013e-01]\n",
      " [-1.34967387e-01]\n",
      " [ 2.49115080e-01]\n",
      " [-7.64752746e-01]\n",
      " [ 6.17262721e-03]\n",
      " [ 5.35990715e-01]\n",
      " [ 5.08808196e-01]\n",
      " [-2.18474105e-01]\n",
      " [-9.11122561e-01]\n",
      " [ 4.33527529e-01]\n",
      " [-8.38643551e-01]\n",
      " [-3.94095749e-01]\n",
      " [ 3.12388301e-01]\n",
      " [-2.92109549e-01]\n",
      " [-2.11495340e-01]\n",
      " [ 1.06861567e+00]\n",
      " [-4.11343366e-01]\n",
      " [ 4.90386784e-01]\n",
      " [ 1.58955407e+00]\n",
      " [ 3.16564977e-01]\n",
      " [-4.09485102e-02]\n",
      " [-6.77939355e-02]\n",
      " [-6.14944577e-01]\n",
      " [ 5.64571321e-01]\n",
      " [ 1.64302737e-01]\n",
      " [-3.91114950e-01]\n",
      " [-4.34250206e-01]\n",
      " [ 3.84555042e-01]\n",
      " [ 7.00061500e-01]\n",
      " [-1.31495863e-01]\n",
      " [-3.18782240e-01]\n",
      " [-9.32828784e-01]\n",
      " [ 1.22306418e+00]\n",
      " [ 2.81814367e-01]\n",
      " [ 2.67956674e-01]\n",
      " [-4.73422945e-01]\n",
      " [ 9.53542441e-02]\n",
      " [ 7.65897691e-01]\n",
      " [-2.61971235e-01]\n",
      " [-1.57194749e-01]\n",
      " [ 3.47946107e-01]\n",
      " [-6.11029804e-01]\n",
      " [-5.76345921e-01]\n",
      " [ 4.40513641e-02]\n",
      " [ 5.75750351e-01]\n",
      " [ 2.87346482e-01]\n",
      " [-1.46536052e+00]\n",
      " [-3.85050178e-01]\n",
      " [-9.78017896e-02]\n",
      " [ 1.11188680e-01]\n",
      " [ 2.77482033e-01]\n",
      " [ 9.65980589e-02]\n",
      " [-5.09766996e-01]\n",
      " [-6.80388510e-01]\n",
      " [-1.73295707e-01]\n",
      " [-1.97896540e-01]\n",
      " [-8.62776399e-01]\n",
      " [-2.61587441e-01]\n",
      " [-2.40039974e-02]\n",
      " [-9.29706395e-01]\n",
      " [ 5.22443950e-02]\n",
      " [-1.74754858e-01]\n",
      " [-1.75559670e-01]\n",
      " [ 3.47475111e-01]\n",
      " [ 1.38696873e+00]\n",
      " [ 2.85061181e-01]\n",
      " [-5.48812389e-01]\n",
      " [-5.28994799e-02]\n",
      " [ 1.14555514e+00]\n",
      " [-4.77673501e-01]\n",
      " [ 6.53953791e-01]\n",
      " [ 5.54753900e-01]\n",
      " [-4.52817976e-02]\n",
      " [-6.71631753e-01]\n",
      " [-8.44464302e-02]\n",
      " [-5.26791811e-01]\n",
      " [-2.39351004e-01]\n",
      " [ 8.78510401e-02]\n",
      " [ 4.28874373e-01]\n",
      " [ 4.58529741e-02]\n",
      " [-6.99550390e-01]\n",
      " [-2.22301453e-01]\n",
      " [ 2.23577321e-02]\n",
      " [ 9.36284065e-02]\n",
      " [-9.27428067e-01]\n",
      " [ 1.44198835e-02]\n",
      " [-6.00834787e-01]\n",
      " [ 8.35859001e-01]\n",
      " [-6.05689585e-02]\n",
      " [-3.23874652e-01]\n",
      " [ 2.19549373e-01]\n",
      " [ 9.23426449e-02]\n",
      " [ 1.96636617e-02]\n",
      " [-4.84537154e-01]\n",
      " [ 2.34651059e-01]\n",
      " [-1.54646650e-01]\n",
      " [-1.24987908e-01]\n",
      " [-2.06207916e-01]\n",
      " [-1.65159851e-01]\n",
      " [-2.90684283e-01]\n",
      " [ 2.06415638e-01]\n",
      " [-1.96554229e-01]\n",
      " [-2.21498296e-01]\n",
      " [ 8.95664573e-01]\n",
      " [-1.09835103e-01]\n",
      " [-1.82842553e-01]\n",
      " [ 7.59547353e-02]\n",
      " [-3.15964580e-01]\n",
      " [ 8.86285305e-03]\n",
      " [ 5.64440414e-02]\n",
      " [ 1.33068264e-01]\n",
      " [ 1.18153624e-01]\n",
      " [-3.88446003e-01]\n",
      " [ 7.42280066e-01]\n",
      " [-2.47735858e-01]\n",
      " [ 5.11082768e-01]\n",
      " [-2.22683698e-01]\n",
      " [-1.27528623e-01]\n",
      " [-2.83127576e-02]\n",
      " [-5.50340950e-01]\n",
      " [-1.10672995e-01]\n",
      " [-2.32549727e-01]\n",
      " [ 3.09049159e-01]\n",
      " [ 1.86455697e-01]\n",
      " [ 3.75988781e-01]\n",
      " [ 2.62474209e-01]\n",
      " [ 7.21825659e-02]\n",
      " [ 6.38192706e-03]\n",
      " [ 9.84030962e-02]\n",
      " [ 3.46233606e-01]\n",
      " [-5.57495654e-01]\n",
      " [-2.22935483e-01]\n",
      " [ 3.94531935e-01]\n",
      " [ 6.00993693e-01]\n",
      " [-3.42659473e-01]\n",
      " [-7.59094775e-01]\n",
      " [-3.92262861e-02]\n",
      " [-9.71920252e-01]\n",
      " [ 4.41170543e-01]\n",
      " [-8.27790380e-01]\n",
      " [-4.44818944e-01]\n",
      " [ 4.40785170e-01]\n",
      " [-5.45891821e-01]\n",
      " [-2.33559310e-03]\n",
      " [-4.65494901e-01]\n",
      " [ 2.38537371e-01]\n",
      " [ 8.26869249e-01]\n",
      " [-1.55341834e-01]\n",
      " [ 4.04831141e-01]\n",
      " [ 5.14654517e-01]\n",
      " [ 9.11643058e-02]\n",
      " [-3.00672889e-01]\n",
      " [-3.20851475e-01]\n",
      " [ 6.55239344e-01]\n",
      " [ 4.75587994e-02]\n",
      " [ 4.47979391e-01]\n",
      " [ 1.35999806e-02]\n",
      " [ 5.97809374e-01]\n",
      " [ 2.46025354e-01]\n",
      " [-5.92907906e-01]\n",
      " [ 2.75607467e-01]\n",
      " [ 1.86335146e-01]\n",
      " [-3.95993412e-01]\n",
      " [ 4.62125033e-01]\n",
      " [-4.22773771e-02]\n",
      " [ 7.72788376e-02]\n",
      " [-2.08956718e-01]\n",
      " [-5.85694551e-01]\n",
      " [-3.99764508e-01]\n",
      " [ 4.05030191e-01]\n",
      " [-3.62962723e-01]\n",
      " [-1.66032434e-01]\n",
      " [-3.56411070e-01]\n",
      " [ 1.83433697e-01]\n",
      " [ 7.79737383e-02]\n",
      " [ 1.67653799e-01]\n",
      " [-2.37564027e-01]\n",
      " [-1.41320258e-01]\n",
      " [-6.67407870e-01]\n",
      " [ 9.42226350e-01]\n",
      " [ 1.48545682e-01]\n",
      " [-1.80132627e-01]\n",
      " [-6.48770630e-01]\n",
      " [ 1.51355907e-01]\n",
      " [-1.17430341e+00]\n",
      " [ 3.43289554e-01]\n",
      " [ 4.64897633e-01]\n",
      " [ 4.45604563e-01]\n",
      " [-6.30699545e-02]\n",
      " [-8.94376487e-02]\n",
      " [-3.05673301e-01]\n",
      " [-1.89793333e-01]\n",
      " [-6.92469358e-01]\n",
      " [-2.74375290e-01]\n",
      " [-2.05286577e-01]\n",
      " [ 6.33820295e-01]\n",
      " [-7.93160677e-01]\n",
      " [-3.86486828e-01]\n",
      " [ 1.65387437e-01]\n",
      " [ 5.08977234e-01]\n",
      " [ 5.90437233e-01]\n",
      " [ 7.61590749e-02]\n",
      " [-4.35365200e-01]\n",
      " [ 3.04309487e-01]\n",
      " [-1.48137897e-01]\n",
      " [-4.02562916e-01]\n",
      " [ 1.05579406e-01]\n",
      " [ 9.80102718e-02]\n",
      " [-5.03035299e-02]\n",
      " [-2.80527592e-01]\n",
      " [-1.18733704e-01]\n",
      " [ 8.90074149e-02]\n",
      " [ 1.95697621e-02]\n",
      " [ 1.17889829e-01]\n",
      " [ 5.14452875e-01]\n",
      " [ 3.49684745e-01]]\n"
     ]
    }
   ],
   "source": [
    "#the srting to be passed should be unicode (u) represents the unicode\n",
    "q = word_embeddings(u'what')\n",
    "print q.vector.reshape((-1, 1))"
   ]
  },
  {
   "cell_type": "code",
   "execution_count": 46,
   "metadata": {},
   "outputs": [],
   "source": [
    "from sklearn.metrics.pairwise import cosine_similarity"
   ]
  },
  {
   "cell_type": "code",
   "execution_count": 62,
   "metadata": {},
   "outputs": [],
   "source": [
    "#takes two unicode words\n",
    "def sim(w1, w2):\n",
    "    v1 = word_embeddings(w1)\n",
    "    v2 = word_embeddings(w2)\n",
    "    \n",
    "    return cosine_similarity(v1.vector.reshape(1,-1), v2.vector.reshape(1,-1))"
   ]
  },
  {
   "cell_type": "code",
   "execution_count": 65,
   "metadata": {},
   "outputs": [
    {
     "data": {
      "text/plain": [
       "'0.19.1'"
      ]
     },
     "execution_count": 65,
     "metadata": {},
     "output_type": "execute_result"
    }
   ],
   "source": [
    "import sklearn\n",
    "sklearn.__version__"
   ]
  },
  {
   "cell_type": "code",
   "execution_count": 63,
   "metadata": {},
   "outputs": [
    {
     "name": "stdout",
     "output_type": "stream",
     "text": [
      "[[0.7375301]]\n"
     ]
    }
   ],
   "source": [
    "word1 = u'money'\n",
    "word2 = u'luxury'\n",
    "print sim(word1, word2)"
   ]
  },
  {
   "cell_type": "code",
   "execution_count": null,
   "metadata": {
    "collapsed": true
   },
   "outputs": [],
   "source": [
    "#for opposite"
   ]
  }
 ],
 "metadata": {
  "kernelspec": {
   "display_name": "Python 2",
   "language": "python",
   "name": "python2"
  },
  "language_info": {
   "codemirror_mode": {
    "name": "ipython",
    "version": 2
   },
   "file_extension": ".py",
   "mimetype": "text/x-python",
   "name": "python",
   "nbconvert_exporter": "python",
   "pygments_lexer": "ipython2",
   "version": "2.7.12"
  }
 },
 "nbformat": 4,
 "nbformat_minor": 2
}
