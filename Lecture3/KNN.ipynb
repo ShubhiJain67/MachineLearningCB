{
 "cells": [
  {
   "cell_type": "code",
   "execution_count": 23,
   "metadata": {},
   "outputs": [],
   "source": [
    "# Import the libraries\n",
    "import numpy as np\n",
    "from matplotlib import pyplot as plt\n",
    "%matplotlib inline\n",
    "import pandas as pd\n",
    "import cv2\n",
    "import skimage.io as io"
   ]
  },
  {
   "cell_type": "code",
   "execution_count": 24,
   "metadata": {},
   "outputs": [],
   "source": [
    "def random_function():\n",
    "    r=np.random.random()\n",
    "    \n",
    "    if r<0.3:\n",
    "        return 'A'\n",
    "    elif r>=0.3 and r<0.5:\n",
    "        return 'B'\n",
    "    else:\n",
    "        return 'C'"
   ]
  },
  {
   "cell_type": "code",
   "execution_count": 25,
   "metadata": {},
   "outputs": [
    {
     "data": {
      "text/plain": [
       "'C'"
      ]
     },
     "execution_count": 25,
     "metadata": {},
     "output_type": "execute_result"
    }
   ],
   "source": [
    "random_function()"
   ]
  },
  {
   "cell_type": "code",
   "execution_count": 26,
   "metadata": {},
   "outputs": [
    {
     "name": "stdout",
     "output_type": "stream",
     "text": [
      "0.30083 0.1981 0.50107\n"
     ]
    }
   ],
   "source": [
    "N=100000 #sample size greater the sample size better he probability\n",
    "a,b,c=0,0,0\n",
    "\n",
    "for ix in range(N):\n",
    "    v=random_function()\n",
    "    \n",
    "    if v=='A':\n",
    "        a+=1\n",
    "    elif v=='B':\n",
    "        b+=1\n",
    "    else:\n",
    "        c+=1\n",
    "\n",
    "print float(a)/N,float(b)/N,float(c)/N"
   ]
  },
  {
   "cell_type": "code",
   "execution_count": 27,
   "metadata": {},
   "outputs": [],
   "source": [
    "#create teh mean and covariance atrices\n",
    "mean_01 = np.array([0.0,0.0])\n",
    "mean_02=np.array([5.0,6.0])\n",
    "cov_01 = np.array([[1.0,0.0],\n",
    "                [0.0,1.0]])\n",
    "cov_02 = np.array([[2.0,0.0],\n",
    "                [0.0,2.0]])"
   ]
  },
  {
   "cell_type": "code",
   "execution_count": 28,
   "metadata": {},
   "outputs": [
    {
     "name": "stdout",
     "output_type": "stream",
     "text": [
      "(500, 2)\n"
     ]
    }
   ],
   "source": [
    "#generate the data ditributions\n",
    "data_01=np.random.multivariate_normal(mean_01,cov_01,500)\n",
    "data_02=np.random.multivariate_normal(mean_02,cov_02,500)\n",
    "print data_01.shape"
   ]
  },
  {
   "cell_type": "code",
   "execution_count": 29,
   "metadata": {},
   "outputs": [
    {
     "data": {
      "image/png": "[encoded data removed]",
      "text/plain": [
       "<Figure size 504x504 with 1 Axes>"
      ]
     },
     "metadata": {},
     "output_type": "display_data"
    }
   ],
   "source": [
    "plt.figure(0,figsize=(7,7))\n",
    "plt.grid(\"on\")\n",
    "plt.xlim(-10,10)\n",
    "plt.ylim(-10,10)\n",
    "plt.scatter(data_01[:,0],data_01[:,1],color='green')\n",
    "plt.scatter(data_02[:,0],data_02[:,1],color='red')\n",
    "plt.scatter(2.5,2.5,color='black',s=100)\n",
    "plt.show()"
   ]
  },
  {
   "cell_type": "code",
   "execution_count": 30,
   "metadata": {},
   "outputs": [
    {
     "name": "stdout",
     "output_type": "stream",
     "text": [
      "(1000, 2) (1000,)\n"
     ]
    }
   ],
   "source": [
    "#to allocate this point to its cluster\n",
    "#preparing the x data\n",
    "X=np.concatenate((data_01,data_02),axis=0 )#X has all the coordintes\n",
    "y=np.zeros((X.shape[0],)) #list of zeros \n",
    "y[:500]=1 #starting 1000 have value 0 hence they belong to 0 cluster and next 500 are from 1 cluster\n",
    "print X.shape,y.shape"
   ]
  },
  {
   "cell_type": "code",
   "execution_count": 31,
   "metadata": {},
   "outputs": [],
   "source": [
    "#function which cal the distance btw 2 points\n",
    "def distance(v1,v2):\n",
    "    return np.sqrt(np.sum((v1-v2)**2))\n",
    "#loop to calc the distances from each point\n",
    "def knn(train,labels,test_x,k=5):\n",
    "    dist=[]\n",
    "    \n",
    "    for ix in range(train.shape[0]): #loop runs for each row in train\n",
    "        d=distance(train[ix],test_x)\n",
    "        #we add the distance as well as the lable to tell that this point belongs to which cluster\n",
    "        dist.append([d,labels[ix]])\n",
    "    sorted_distances = sorted(dist,key=lambda x:x[0]) #returns a list\n",
    "    candidates = np.asarray(sorted_distances)[:k,-1] #the labes of the strting k rows are extracted\n",
    "    \n",
    "    freq=np.unique(candidates,return_counts=True) \n",
    "    print freq[0]\n",
    "    index=np.argmax(freq[1])\n",
    "    \n",
    "    return freq[0][index]"
   ]
  },
  {
   "cell_type": "code",
   "execution_count": 32,
   "metadata": {},
   "outputs": [
    {
     "name": "stdout",
     "output_type": "stream",
     "text": [
      "[0. 1.]\n",
      "0.0\n"
     ]
    }
   ],
   "source": [
    "x=np.array([2.5,2.5])\n",
    "print knn(X,y,x)"
   ]
  },
  {
   "cell_type": "code",
   "execution_count": 21,
   "metadata": {},
   "outputs": [
    {
     "name": "stdout",
     "output_type": "stream",
     "text": [
      "(array([1, 2, 3, 4, 5, 7, 8]), array([1, 3, 2, 1, 1, 1, 1]))\n",
      "[1 2 3 4 5 7 8]\n",
      "[1 3 2 1 1 1 1]\n",
      "1\n",
      "2\n",
      "**********\n",
      "1\n"
     ]
    }
   ],
   "source": [
    "a=np.array([2,2,1,2,5,4,3,3,7,8])\n",
    "\n",
    "#unique return the 2 arrays one containing teh unique numbers and the other containing the frequencies of those numbers\n",
    "o = np.unique(a,return_counts=True)\n",
    "print o\n",
    "print o[0]\n",
    "print o[1]\n",
    "print o[1].argmax()\n",
    "print o[0][o[1].argmax()]\n",
    "#this is equivalent to\n",
    "print '*'*10\n",
    "print np.unique(a,return_counts=True)[1].argmax() "
   ]
  },
  {
   "cell_type": "code",
   "execution_count": 22,
   "metadata": {},
   "outputs": [
    {
     "name": "stdout",
     "output_type": "stream",
     "text": [
      "['images', 'data', 'target_names', 'DESCR', 'target']\n",
      "[[ 0.  0.  5. ...  0.  0.  0.]\n",
      " [ 0.  0.  0. ... 10.  0.  0.]\n",
      " [ 0.  0.  0. ... 16.  9.  0.]\n",
      " ...\n",
      " [ 0.  0.  1. ...  6.  0.  0.]\n",
      " [ 0.  0.  2. ... 12.  0.  0.]\n",
      " [ 0.  0. 10. ... 12.  1.  0.]]\n",
      "[0 1 2 ... 8 9 8]\n",
      "(1797, 64) (1797,)\n",
      "3\n"
     ]
    },
    {
     "data": {
      "image/png": "[encoded data removed]",
      "text/plain": [
       "<Figure size 144x144 with 1 Axes>"
      ]
     },
     "metadata": {},
     "output_type": "display_data"
    },
    {
     "name": "stdout",
     "output_type": "stream",
     "text": [
      "(1500, 64) (1500,)\n",
      "(297, 64) (297,)\n"
     ]
    }
   ],
   "source": [
    "import sklearn\n",
    "from sklearn.datasets import load_digits #loads the dataset, it searches the 'digit' data set and loads it\n",
    "\n",
    "print load_digits().keys()\n",
    "\n",
    "X,y=load_digits(return_X_y=True)\n",
    "print X\n",
    "print y\n",
    "print X.shape,y.shape\n",
    "\n",
    "n=45 #vaiable which tells that which row of the dataset is being extracted\n",
    "plt.figure(0,figsize=(2,2))\n",
    "plt.imshow(X[n].reshape((8,8)),cmap='gray')\n",
    "print y[n]\n",
    "plt.show()\n",
    "\n",
    "#dividing the dataset into the training and validation\n",
    "train_X=X[:1500]\n",
    "train_y=y[:1500]\n",
    "val_X=X[1500:]\n",
    "val_y=y[1500:]\n",
    "\n",
    "print train_X.shape,train_y.shape\n",
    "print val_X.shape,val_y.shape\n",
    "\n",
    "import datetime\n",
    "\n",
    "def findK():\n",
    "    pred=[]\n",
    "    target=[]\n",
    "\n",
    "    start=datetime.datetime.now()\n",
    "    for ix in range(val_X.shape[0]):\n",
    "        pred.append(knn(train_X,train_y,val_X[ix],k=5))\n",
    "        target.append(val_y[ix])\n",
    "    pred = np.asarray(pred)\n",
    "    target=np.asarray(target)\n",
    "    stop=datetime.datetime.now()\n",
    "\n",
    "    print pred,target\n",
    "    acc=(pred==target).sum()\n",
    "    acc=100.0*(pred==target).sum()/pred.shape[0]\n",
    "    print \"Accuracy:{} in time: {}\".format(acc,stop-start)"
   ]
  },
  {
   "cell_type": "code",
   "execution_count": 15,
   "metadata": {},
   "outputs": [],
   "source": [
    "from sklearn.neighbors import KNeighborsClassifier"
   ]
  },
  {
   "cell_type": "code",
   "execution_count": null,
   "metadata": {},
   "outputs": [],
   "source": []
  }
 ],
 "metadata": {
  "kernelspec": {
   "display_name": "Python 2",
   "language": "python",
   "name": "python2"
  },
  "language_info": {
   "codemirror_mode": {
    "name": "ipython",
    "version": 2
   },
   "file_extension": ".py",
   "mimetype": "text/x-python",
   "name": "python",
   "nbconvert_exporter": "python",
   "pygments_lexer": "ipython2",
   "version": "2.7.12"
  }
 },
 "nbformat": 4,
 "nbformat_minor": 2
}
