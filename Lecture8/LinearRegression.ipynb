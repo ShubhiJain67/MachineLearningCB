{
 "cells": [
  {
   "cell_type": "code",
   "execution_count": 33,
   "metadata": {},
   "outputs": [],
   "source": [
    "import numpy as np\n",
    "from matplotlib import pyplot as plt\n",
    "%matplotlib inline\n",
    "from sklearn.datasets import make_regression\n",
    "import seaborn as sns"
   ]
  },
  {
   "cell_type": "code",
   "execution_count": 34,
   "metadata": {},
   "outputs": [
    {
     "name": "stdout",
     "output_type": "stream",
     "text": [
      "(500, 1) (500,) 6.985683264924436\n"
     ]
    }
   ],
   "source": [
    "X, y, cof = make_regression(n_samples=500, n_features=1, bias=4.2, noise=7.1, coef=True)\n",
    "#cof has the coefficient of x\n",
    "#basis has the y intercept\n",
    "print X.shape, y.shape, cof\n",
    "#print X\n",
    "#print y"
   ]
  },
  {
   "cell_type": "code",
   "execution_count": 35,
   "metadata": {},
   "outputs": [
    {
     "data": {
      "text/plain": [
       "<matplotlib.axes._subplots.AxesSubplot at 0x7f1bf7483e10>"
      ]
     },
     "execution_count": 35,
     "metadata": {},
     "output_type": "execute_result"
    },
    {
     "data": {
      "image/png": "[encoded data removed]",
      "text/plain": [
       "<Figure size 432x288 with 1 Axes>"
      ]
     },
     "metadata": {},
     "output_type": "display_data"
    }
   ],
   "source": [
    "plt.xlim(-200, 200)\n",
    "plt.ylim(-200, 200)\n",
    "sns.regplot(X[:, 0], y,fit_reg=False)\n"
   ]
  },
  {
   "cell_type": "code",
   "execution_count": 36,
   "metadata": {},
   "outputs": [
    {
     "name": "stdout",
     "output_type": "stream",
     "text": [
      "(400, 1) (100, 1)\n",
      "(400,) (100,)\n"
     ]
    }
   ],
   "source": [
    "split = int(0.8 * X.shape[0])\n",
    "\n",
    "X_train = X[:split]\n",
    "X_test = X[split:]\n",
    "\n",
    "y_train = y[:split]\n",
    "y_test = y[split:]\n",
    "\n",
    "print X_train.shape, X_test.shape\n",
    "print y_train.shape, y_test.shape"
   ]
  },
  {
   "cell_type": "code",
   "execution_count": 37,
   "metadata": {},
   "outputs": [],
   "source": [
    "# hypothesis function\n",
    "#for logistc we ass h=(x*w).sum()+b where b is thw w[0] the intercept term where w is the bunch of weights and b is the bias number of dimentions =num of weights+1 bias term\n",
    "#the sigmoid is calculated as 1.0/(1.0+np.exp(-1.0*z))\n",
    "def hypothesis(x, w):\n",
    "    return x*w[1] + w[0]\n",
    "#for logistic add sigmoid\n",
    "\n",
    "# error compute\n",
    "#y_true is the actual y\n",
    "#we compute y using w and x\n",
    "def get_error(y_true, x, w):\n",
    "    err = 0.0\n",
    "    \n",
    "    # Get number of examples\n",
    "    m = x.shape[0]\n",
    "    #m is the number of rows in the dataset (number of points)\n",
    "    for ix in range(m):\n",
    "        # for each example compute the square error\n",
    "        err += (y_true[ix] - hypothesis(x[ix], w))**2\n",
    "    # Get mean sq. error\n",
    "    err = err / (2*m)\n",
    "    return err\n",
    "#for logistic add the error term of logistic -(yi=1).log(yi hat)+(-1)(yi=0).log(1-yi hat) where y hat is the prob of a point i being in class 1\n",
    "\n",
    "\n",
    "\n",
    "# error gradient\n",
    "#for logistic we del(y,x,w)/del w when we cal the gradient they end up comming the same gradient value as that of the linear regression\n",
    "def get_grads(y_true, x, w):\n",
    "    grad_00 = 0.0\n",
    "    grad_01 = 0.0\n",
    "    \n",
    "    # Get number of examples\n",
    "    m = x.shape[0]\n",
    "    \n",
    "    for ix in range(m):\n",
    "        # for each example compute the gradients\n",
    "        grad_00 += (y_true[ix] - hypothesis(x[ix], w))*(-1)\n",
    "        grad_01 += (y_true[ix] - hypothesis(x[ix], w))*(-1*x[ix])\n",
    "    \n",
    "    # Get mean grads\n",
    "    grad_00 = grad_00 / m\n",
    "    grad_01 = grad_01 / m\n",
    "    return [grad_00, grad_01]\n",
    "\n",
    "# update weights using grad. desc.\n",
    "# input data set x\n",
    "#input data lables y\n",
    "#current w\n",
    "def grad_descent(x, y_true, w, learning_rate=0.1):\n",
    "    error = get_error(y_true, x, w)\n",
    "    [grad_00, grad_01] = get_grads(y_true, x, w)\n",
    "    \n",
    "    w[0] = w[0] - learning_rate*grad_00\n",
    "    w[1] = w[1] - learning_rate*grad_01\n",
    "    \n",
    "    #now w is the new gradient\n",
    "    return error, w"
   ]
  },
  {
   "cell_type": "code",
   "execution_count": 38,
   "metadata": {},
   "outputs": [],
   "source": [
    "W = np.array([0.1, 0.1])\n",
    "loss = []"
   ]
  },
  {
   "cell_type": "code",
   "execution_count": 50,
   "metadata": {},
   "outputs": [
    {
     "data": {
      "image/png": "[encoded data removed]",
      "text/plain": [
       "<Figure size 432x288 with 1 Axes>"
      ]
     },
     "metadata": {},
     "output_type": "display_data"
    }
   ],
   "source": [
    "# for ix in range(100):\n",
    "\n",
    "sns.regplot(X[:, 0], y,fit_reg=False)\n",
    "\n",
    "y_0 = hypothesis(-3, W)\n",
    "y_1 = hypothesis(3, W)\n",
    "\n",
    "plt.plot([-3, 3], [y_0, y_1], 'r*-')\n",
    "plt.show()\n",
    "\n",
    "l, W = grad_descent(X_train, y_train, W, learning_rate=3)\n",
    "loss.append(l)\n",
    "\n",
    "# print loss"
   ]
  },
  {
   "cell_type": "code",
   "execution_count": 40,
   "metadata": {},
   "outputs": [
    {
     "data": {
      "image/png": "[encoded data removed]",
      "text/plain": [
       "<Figure size 432x288 with 1 Axes>"
      ]
     },
     "metadata": {},
     "output_type": "display_data"
    }
   ],
   "source": [
    "plt.plot(loss)\n",
    "plt.show()"
   ]
  },
  {
   "cell_type": "code",
   "execution_count": 41,
   "metadata": {},
   "outputs": [
    {
     "name": "stdout",
     "output_type": "stream",
     "text": [
      "[12.24235836 22.86132091]\n"
     ]
    }
   ],
   "source": [
    "print W"
   ]
  },
  {
   "cell_type": "code",
   "execution_count": 30,
   "metadata": {},
   "outputs": [],
   "source": [
    "from sklearn.linear_model import LinearRegression"
   ]
  },
  {
   "cell_type": "code",
   "execution_count": 31,
   "metadata": {},
   "outputs": [
    {
     "data": {
      "text/plain": [
       "0.9830615475151747"
      ]
     },
     "execution_count": 31,
     "metadata": {},
     "output_type": "execute_result"
    }
   ],
   "source": [
    "#the score function calculated te accuracy\n",
    "lr.score(X_test, y_test)"
   ]
  },
  {
   "cell_type": "code",
   "execution_count": 32,
   "metadata": {},
   "outputs": [
    {
     "data": {
      "text/plain": [
       "-1.2039728043259361"
      ]
     },
     "execution_count": 32,
     "metadata": {},
     "output_type": "execute_result"
    }
   ],
   "source": [
    "np.log(0.3)"
   ]
  }
 ],
 "metadata": {
  "kernelspec": {
   "display_name": "Python 2",
   "language": "python",
   "name": "python2"
  },
  "language_info": {
   "codemirror_mode": {
    "name": "ipython",
    "version": 2
   },
   "file_extension": ".py",
   "mimetype": "text/x-python",
   "name": "python",
   "nbconvert_exporter": "python",
   "pygments_lexer": "ipython2",
   "version": "2.7.12"
  }
 },
 "nbformat": 4,
 "nbformat_minor": 2
}
