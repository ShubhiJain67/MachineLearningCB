{
 "cells": [
  {
   "cell_type": "code",
   "execution_count": 1,
   "metadata": {},
   "outputs": [
    {
     "name": "stderr",
     "output_type": "stream",
     "text": [
      "Using TensorFlow backend.\n"
     ]
    }
   ],
   "source": [
    "import numpy as np\n",
    "import matplotlib.pyplot as plt\n",
    "%matplotlib inline\n",
    "from sklearn.datasets import make_circles\n",
    "import keras\n",
    "from keras.utils import np_utils\n",
    "from keras.layers import Dense, Activation\n",
    "from keras.models import Sequential"
   ]
  },
  {
   "cell_type": "code",
   "execution_count": 2,
   "metadata": {},
   "outputs": [
    {
     "name": "stdout",
     "output_type": "stream",
     "text": [
      "(1000, 2) (1000,)\n"
     ]
    }
   ],
   "source": [
    "X, y = make_circles(n_samples=1000, factor=0.4)\n",
    "print X.shape, y.shape"
   ]
  },
  {
   "cell_type": "code",
   "execution_count": 3,
   "metadata": {},
   "outputs": [
    {
     "data": {
      "image/png": "[encoded data removed]",
      "text/plain": [
       "<Figure size 432x288 with 1 Axes>"
      ]
     },
     "metadata": {},
     "output_type": "display_data"
    }
   ],
   "source": [
    "plt.scatter(X[:, 0], X[:, 1])\n",
    "plt.show()"
   ]
  },
  {
   "cell_type": "code",
   "execution_count": 4,
   "metadata": {},
   "outputs": [
    {
     "data": {
      "image/png": "[encoded data removed]",
      "text/plain": [
       "<Figure size 432x288 with 1 Axes>"
      ]
     },
     "metadata": {},
     "output_type": "display_data"
    }
   ],
   "source": [
    "for ix in range(X.shape[0]):\n",
    "    if y[ix] == 0:\n",
    "        plt.scatter(X[ix, 0], X[ix, 1], color='red')\n",
    "    else:\n",
    "        plt.scatter(X[ix, 0], X[ix, 1], color='green')\n",
    "\n",
    "plt.show()"
   ]
  },
  {
   "cell_type": "code",
   "execution_count": 5,
   "metadata": {},
   "outputs": [
    {
     "name": "stdout",
     "output_type": "stream",
     "text": [
      "(1000, 2)\n",
      "[1. 0.] --- 0\n",
      "[0. 1.] --- 1\n",
      "[0. 1.] --- 1\n",
      "[0. 1.] --- 1\n",
      "[0. 1.] --- 1\n",
      "[1. 0.] --- 0\n",
      "[0. 1.] --- 1\n",
      "[0. 1.] --- 1\n",
      "[0. 1.] --- 1\n",
      "[0. 1.] --- 1\n"
     ]
    }
   ],
   "source": [
    "Y = np_utils.to_categorical(y)\n",
    "print Y.shape\n",
    "\n",
    "for ix in range(10):\n",
    "    print Y[ix], \"---\", y[ix]"
   ]
  },
  {
   "cell_type": "code",
   "execution_count": 6,
   "metadata": {},
   "outputs": [
    {
     "name": "stdout",
     "output_type": "stream",
     "text": [
      "(800, 2)\n"
     ]
    }
   ],
   "source": [
    "split = int(0.8*X.shape[0])\n",
    "X_train = X[:split,:]\n",
    "X_test = X[split:,:]\n",
    "\n",
    "y_train = Y[:split]\n",
    "y_test = Y[split:]\n",
    "\n",
    "print X_train.shape"
   ]
  },
  {
   "cell_type": "code",
   "execution_count": 7,
   "metadata": {},
   "outputs": [
    {
     "name": "stdout",
     "output_type": "stream",
     "text": [
      "_________________________________________________________________\n",
      "Layer (type)                 Output Shape              Param #   \n",
      "=================================================================\n",
      "dense_1 (Dense)              (None, 5)                 15        \n",
      "_________________________________________________________________\n",
      "activation_1 (Activation)    (None, 5)                 0         \n",
      "_________________________________________________________________\n",
      "dense_2 (Dense)              (None, 2)                 12        \n",
      "_________________________________________________________________\n",
      "activation_2 (Activation)    (None, 2)                 0         \n",
      "=================================================================\n",
      "Total params: 27\n",
      "Trainable params: 27\n",
      "Non-trainable params: 0\n",
      "_________________________________________________________________\n"
     ]
    }
   ],
   "source": [
    "## NN in keras\n",
    "model = Sequential()\n",
    "\n",
    "model.add(Dense(5,input_shape = (2,)))\n",
    "model.add(Activation('relu'))\n",
    "\n",
    "model.add(Dense(2))\n",
    "model.add(Activation('softmax'))\n",
    "\n",
    "model.summary()"
   ]
  },
  {
   "cell_type": "code",
   "execution_count": 8,
   "metadata": {},
   "outputs": [
    {
     "name": "stdout",
     "output_type": "stream",
     "text": [
      "_________________________________________________________________\n",
      "Layer (type)                 Output Shape              Param #   \n",
      "=================================================================\n",
      "dense_3 (Dense)              (None, 2)                 6         \n",
      "_________________________________________________________________\n",
      "dense_4 (Dense)              (None, 5)                 15        \n",
      "_________________________________________________________________\n",
      "dense_5 (Dense)              (None, 5)                 30        \n",
      "_________________________________________________________________\n",
      "dense_6 (Dense)              (None, 5)                 30        \n",
      "_________________________________________________________________\n",
      "dense_7 (Dense)              (None, 5)                 30        \n",
      "_________________________________________________________________\n",
      "dense_8 (Dense)              (None, 5)                 30        \n",
      "=================================================================\n",
      "Total params: 141\n",
      "Trainable params: 141\n",
      "Non-trainable params: 0\n",
      "_________________________________________________________________\n"
     ]
    }
   ],
   "source": [
    "model2 = Sequential()\n",
    "\n",
    "model2.add(Dense(2, input_shape=(2,)))\n",
    "for ix in range(5):\n",
    "    model2.add(Dense(5))\n",
    "model2.summary()"
   ]
  },
  {
   "cell_type": "code",
   "execution_count": 9,
   "metadata": {},
   "outputs": [],
   "source": [
    "model.compile(optimizer='adagrad', loss='categorical_crossentropy', metrics=['accuracy'])"
   ]
  },
  {
   "cell_type": "code",
   "execution_count": 10,
   "metadata": {},
   "outputs": [
    {
     "name": "stderr",
     "output_type": "stream",
     "text": [
      "/home/shubhijain/.local/lib/python2.7/site-packages/ipykernel_launcher.py:1: UserWarning: The `nb_epoch` argument in `fit` has been renamed `epochs`.\n",
      "  \"\"\"Entry point for launching an IPython kernel.\n"
     ]
    },
    {
     "name": "stdout",
     "output_type": "stream",
     "text": [
      "Train on 800 samples, validate on 200 samples\n",
      "Epoch 1/100\n",
      " - 1s - loss: 0.6546 - acc: 0.5175 - val_loss: 0.6393 - val_acc: 0.5350\n",
      "Epoch 2/100\n",
      " - 0s - loss: 0.6370 - acc: 0.5450 - val_loss: 0.6270 - val_acc: 0.5450\n",
      "Epoch 3/100\n",
      " - 0s - loss: 0.6272 - acc: 0.5550 - val_loss: 0.6180 - val_acc: 0.5450\n",
      "Epoch 4/100\n",
      " - 0s - loss: 0.6197 - acc: 0.5738 - val_loss: 0.6108 - val_acc: 0.5450\n",
      "Epoch 5/100\n",
      " - 0s - loss: 0.6135 - acc: 0.5788 - val_loss: 0.6047 - val_acc: 0.5600\n",
      "Epoch 6/100\n",
      " - 0s - loss: 0.6080 - acc: 0.5812 - val_loss: 0.5994 - val_acc: 0.5600\n",
      "Epoch 7/100\n",
      " - 0s - loss: 0.6030 - acc: 0.5900 - val_loss: 0.5947 - val_acc: 0.5650\n",
      "Epoch 8/100\n",
      " - 0s - loss: 0.5985 - acc: 0.5950 - val_loss: 0.5903 - val_acc: 0.5700\n",
      "Epoch 9/100\n",
      " - 0s - loss: 0.5943 - acc: 0.6013 - val_loss: 0.5863 - val_acc: 0.5850\n",
      "Epoch 10/100\n",
      " - 0s - loss: 0.5903 - acc: 0.6137 - val_loss: 0.5825 - val_acc: 0.6000\n",
      "Epoch 11/100\n",
      " - 0s - loss: 0.5865 - acc: 0.6212 - val_loss: 0.5789 - val_acc: 0.6100\n",
      "Epoch 12/100\n",
      " - 0s - loss: 0.5830 - acc: 0.6287 - val_loss: 0.5754 - val_acc: 0.6250\n",
      "Epoch 13/100\n",
      " - 0s - loss: 0.5797 - acc: 0.6463 - val_loss: 0.5721 - val_acc: 0.6500\n",
      "Epoch 14/100\n",
      " - 0s - loss: 0.5764 - acc: 0.6575 - val_loss: 0.5689 - val_acc: 0.6750\n",
      "Epoch 15/100\n",
      " - 0s - loss: 0.5733 - acc: 0.6675 - val_loss: 0.5657 - val_acc: 0.7050\n",
      "Epoch 16/100\n",
      " - 0s - loss: 0.5702 - acc: 0.6763 - val_loss: 0.5625 - val_acc: 0.7150\n",
      "Epoch 17/100\n",
      " - 0s - loss: 0.5673 - acc: 0.6850 - val_loss: 0.5596 - val_acc: 0.7200\n",
      "Epoch 18/100\n",
      " - 0s - loss: 0.5646 - acc: 0.6950 - val_loss: 0.5567 - val_acc: 0.7200\n",
      "Epoch 19/100\n",
      " - 0s - loss: 0.5619 - acc: 0.7063 - val_loss: 0.5540 - val_acc: 0.7250\n",
      "Epoch 20/100\n",
      " - 0s - loss: 0.5595 - acc: 0.7150 - val_loss: 0.5514 - val_acc: 0.7350\n",
      "Epoch 21/100\n",
      " - 0s - loss: 0.5571 - acc: 0.7200 - val_loss: 0.5489 - val_acc: 0.7500\n",
      "Epoch 22/100\n",
      " - 0s - loss: 0.5548 - acc: 0.7250 - val_loss: 0.5464 - val_acc: 0.7600\n",
      "Epoch 23/100\n",
      " - 0s - loss: 0.5526 - acc: 0.7300 - val_loss: 0.5441 - val_acc: 0.7700\n",
      "Epoch 24/100\n",
      " - 0s - loss: 0.5505 - acc: 0.7350 - val_loss: 0.5418 - val_acc: 0.7800\n",
      "Epoch 25/100\n",
      " - 0s - loss: 0.5485 - acc: 0.7425 - val_loss: 0.5396 - val_acc: 0.7850\n",
      "Epoch 26/100\n",
      " - 0s - loss: 0.5465 - acc: 0.7512 - val_loss: 0.5374 - val_acc: 0.7950\n",
      "Epoch 27/100\n",
      " - 0s - loss: 0.5446 - acc: 0.7525 - val_loss: 0.5353 - val_acc: 0.7950\n",
      "Epoch 28/100\n",
      " - 0s - loss: 0.5428 - acc: 0.7650 - val_loss: 0.5333 - val_acc: 0.8100\n",
      "Epoch 29/100\n",
      " - 0s - loss: 0.5409 - acc: 0.7825 - val_loss: 0.5313 - val_acc: 0.8200\n",
      "Epoch 30/100\n",
      " - 0s - loss: 0.5392 - acc: 0.7800 - val_loss: 0.5294 - val_acc: 0.8300\n",
      "Epoch 31/100\n",
      " - 0s - loss: 0.5375 - acc: 0.7912 - val_loss: 0.5275 - val_acc: 0.8300\n",
      "Epoch 32/100\n",
      " - 0s - loss: 0.5358 - acc: 0.7988 - val_loss: 0.5257 - val_acc: 0.8350\n",
      "Epoch 33/100\n",
      " - 0s - loss: 0.5342 - acc: 0.8062 - val_loss: 0.5239 - val_acc: 0.8350\n",
      "Epoch 34/100\n",
      " - 0s - loss: 0.5325 - acc: 0.8087 - val_loss: 0.5221 - val_acc: 0.8350\n",
      "Epoch 35/100\n",
      " - 0s - loss: 0.5310 - acc: 0.8137 - val_loss: 0.5204 - val_acc: 0.8350\n",
      "Epoch 36/100\n",
      " - 0s - loss: 0.5295 - acc: 0.8237 - val_loss: 0.5187 - val_acc: 0.8400\n",
      "Epoch 37/100\n",
      " - 0s - loss: 0.5280 - acc: 0.8337 - val_loss: 0.5171 - val_acc: 0.8450\n",
      "Epoch 38/100\n",
      " - 0s - loss: 0.5265 - acc: 0.8375 - val_loss: 0.5155 - val_acc: 0.8600\n",
      "Epoch 39/100\n",
      " - 0s - loss: 0.5250 - acc: 0.8450 - val_loss: 0.5139 - val_acc: 0.8600\n",
      "Epoch 40/100\n",
      " - 0s - loss: 0.5236 - acc: 0.8438 - val_loss: 0.5123 - val_acc: 0.8600\n",
      "Epoch 41/100\n",
      " - 0s - loss: 0.5222 - acc: 0.8450 - val_loss: 0.5108 - val_acc: 0.8600\n",
      "Epoch 42/100\n",
      " - 0s - loss: 0.5209 - acc: 0.8450 - val_loss: 0.5093 - val_acc: 0.8600\n",
      "Epoch 43/100\n",
      " - 0s - loss: 0.5195 - acc: 0.8450 - val_loss: 0.5078 - val_acc: 0.8600\n",
      "Epoch 44/100\n",
      " - 0s - loss: 0.5182 - acc: 0.8450 - val_loss: 0.5064 - val_acc: 0.8600\n",
      "Epoch 45/100\n",
      " - 0s - loss: 0.5169 - acc: 0.8462 - val_loss: 0.5049 - val_acc: 0.8600\n",
      "Epoch 46/100\n",
      " - 0s - loss: 0.5156 - acc: 0.8450 - val_loss: 0.5035 - val_acc: 0.8600\n",
      "Epoch 47/100\n",
      " - 0s - loss: 0.5143 - acc: 0.8463 - val_loss: 0.5021 - val_acc: 0.8600\n",
      "Epoch 48/100\n",
      " - 0s - loss: 0.5130 - acc: 0.8462 - val_loss: 0.5007 - val_acc: 0.8600\n",
      "Epoch 49/100\n",
      " - 0s - loss: 0.5118 - acc: 0.8475 - val_loss: 0.4994 - val_acc: 0.8600\n",
      "Epoch 50/100\n",
      " - 0s - loss: 0.5106 - acc: 0.8475 - val_loss: 0.4981 - val_acc: 0.8600\n",
      "Epoch 51/100\n",
      " - 0s - loss: 0.5094 - acc: 0.8475 - val_loss: 0.4968 - val_acc: 0.8600\n",
      "Epoch 52/100\n",
      " - 0s - loss: 0.5083 - acc: 0.8475 - val_loss: 0.4955 - val_acc: 0.8600\n",
      "Epoch 53/100\n",
      " - 0s - loss: 0.5071 - acc: 0.8475 - val_loss: 0.4942 - val_acc: 0.8600\n",
      "Epoch 54/100\n",
      " - 0s - loss: 0.5059 - acc: 0.8475 - val_loss: 0.4930 - val_acc: 0.8600\n",
      "Epoch 55/100\n",
      " - 0s - loss: 0.5047 - acc: 0.8475 - val_loss: 0.4917 - val_acc: 0.8600\n",
      "Epoch 56/100\n",
      " - 0s - loss: 0.5036 - acc: 0.8487 - val_loss: 0.4905 - val_acc: 0.8650\n",
      "Epoch 57/100\n",
      " - 0s - loss: 0.5025 - acc: 0.8488 - val_loss: 0.4893 - val_acc: 0.8650\n",
      "Epoch 58/100\n",
      " - 0s - loss: 0.5014 - acc: 0.8488 - val_loss: 0.4881 - val_acc: 0.8650\n",
      "Epoch 59/100\n",
      " - 0s - loss: 0.5003 - acc: 0.8487 - val_loss: 0.4869 - val_acc: 0.8650\n",
      "Epoch 60/100\n",
      " - 0s - loss: 0.4992 - acc: 0.8488 - val_loss: 0.4857 - val_acc: 0.8650\n",
      "Epoch 61/100\n",
      " - 0s - loss: 0.4982 - acc: 0.8488 - val_loss: 0.4846 - val_acc: 0.8650\n",
      "Epoch 62/100\n",
      " - 0s - loss: 0.4971 - acc: 0.8487 - val_loss: 0.4834 - val_acc: 0.8650\n",
      "Epoch 63/100\n",
      " - 0s - loss: 0.4961 - acc: 0.8488 - val_loss: 0.4823 - val_acc: 0.8650\n",
      "Epoch 64/100\n",
      " - 0s - loss: 0.4950 - acc: 0.8488 - val_loss: 0.4812 - val_acc: 0.8650\n",
      "Epoch 65/100\n",
      " - 0s - loss: 0.4940 - acc: 0.8488 - val_loss: 0.4800 - val_acc: 0.8700\n",
      "Epoch 66/100\n",
      " - 0s - loss: 0.4929 - acc: 0.8488 - val_loss: 0.4789 - val_acc: 0.8700\n",
      "Epoch 67/100\n",
      " - 0s - loss: 0.4919 - acc: 0.8488 - val_loss: 0.4778 - val_acc: 0.8700\n",
      "Epoch 68/100\n",
      " - 0s - loss: 0.4909 - acc: 0.8500 - val_loss: 0.4767 - val_acc: 0.8700\n",
      "Epoch 69/100\n",
      " - 0s - loss: 0.4899 - acc: 0.8500 - val_loss: 0.4757 - val_acc: 0.8700\n",
      "Epoch 70/100\n",
      " - 0s - loss: 0.4889 - acc: 0.8500 - val_loss: 0.4746 - val_acc: 0.8700\n",
      "Epoch 71/100\n",
      " - 0s - loss: 0.4879 - acc: 0.8500 - val_loss: 0.4735 - val_acc: 0.8700\n",
      "Epoch 72/100\n",
      " - 0s - loss: 0.4869 - acc: 0.8500 - val_loss: 0.4724 - val_acc: 0.8700\n",
      "Epoch 73/100\n",
      " - 0s - loss: 0.4860 - acc: 0.8500 - val_loss: 0.4714 - val_acc: 0.8700\n",
      "Epoch 74/100\n",
      " - 0s - loss: 0.4849 - acc: 0.8513 - val_loss: 0.4704 - val_acc: 0.8700\n",
      "Epoch 75/100\n",
      " - 0s - loss: 0.4840 - acc: 0.8513 - val_loss: 0.4693 - val_acc: 0.8700\n",
      "Epoch 76/100\n",
      " - 0s - loss: 0.4830 - acc: 0.8513 - val_loss: 0.4683 - val_acc: 0.8700\n",
      "Epoch 77/100\n",
      " - 0s - loss: 0.4820 - acc: 0.8512 - val_loss: 0.4673 - val_acc: 0.8700\n",
      "Epoch 78/100\n",
      " - 0s - loss: 0.4811 - acc: 0.8513 - val_loss: 0.4662 - val_acc: 0.8700\n",
      "Epoch 79/100\n",
      " - 0s - loss: 0.4802 - acc: 0.8513 - val_loss: 0.4652 - val_acc: 0.8700\n",
      "Epoch 80/100\n",
      " - 0s - loss: 0.4792 - acc: 0.8513 - val_loss: 0.4642 - val_acc: 0.8700\n",
      "Epoch 81/100\n",
      " - 0s - loss: 0.4783 - acc: 0.8513 - val_loss: 0.4632 - val_acc: 0.8750\n",
      "Epoch 82/100\n",
      " - 0s - loss: 0.4773 - acc: 0.8513 - val_loss: 0.4622 - val_acc: 0.8800\n",
      "Epoch 83/100\n",
      " - 0s - loss: 0.4764 - acc: 0.8513 - val_loss: 0.4612 - val_acc: 0.8800\n",
      "Epoch 84/100\n",
      " - 0s - loss: 0.4754 - acc: 0.8513 - val_loss: 0.4602 - val_acc: 0.8800\n",
      "Epoch 85/100\n",
      " - 0s - loss: 0.4745 - acc: 0.8513 - val_loss: 0.4592 - val_acc: 0.8800\n",
      "Epoch 86/100\n",
      " - 0s - loss: 0.4736 - acc: 0.8513 - val_loss: 0.4582 - val_acc: 0.8800\n",
      "Epoch 87/100\n",
      " - 0s - loss: 0.4727 - acc: 0.8512 - val_loss: 0.4572 - val_acc: 0.8800\n",
      "Epoch 88/100\n",
      " - 0s - loss: 0.4717 - acc: 0.8513 - val_loss: 0.4563 - val_acc: 0.8800\n",
      "Epoch 89/100\n",
      " - 0s - loss: 0.4708 - acc: 0.8513 - val_loss: 0.4553 - val_acc: 0.8800\n",
      "Epoch 90/100\n",
      " - 0s - loss: 0.4699 - acc: 0.8525 - val_loss: 0.4543 - val_acc: 0.8800\n",
      "Epoch 91/100\n",
      " - 0s - loss: 0.4690 - acc: 0.8525 - val_loss: 0.4533 - val_acc: 0.8800\n",
      "Epoch 92/100\n",
      " - 0s - loss: 0.4680 - acc: 0.8525 - val_loss: 0.4523 - val_acc: 0.8800\n",
      "Epoch 93/100\n",
      " - 0s - loss: 0.4671 - acc: 0.8525 - val_loss: 0.4513 - val_acc: 0.8800\n",
      "Epoch 94/100\n",
      " - 0s - loss: 0.4662 - acc: 0.8525 - val_loss: 0.4504 - val_acc: 0.8800\n",
      "Epoch 95/100\n",
      " - 0s - loss: 0.4653 - acc: 0.8525 - val_loss: 0.4494 - val_acc: 0.8800\n",
      "Epoch 96/100\n",
      " - 0s - loss: 0.4644 - acc: 0.8525 - val_loss: 0.4484 - val_acc: 0.8800\n"
     ]
    },
    {
     "name": "stdout",
     "output_type": "stream",
     "text": [
      "Epoch 97/100\n",
      " - 0s - loss: 0.4635 - acc: 0.8525 - val_loss: 0.4474 - val_acc: 0.8800\n",
      "Epoch 98/100\n",
      " - 0s - loss: 0.4626 - acc: 0.8538 - val_loss: 0.4465 - val_acc: 0.8800\n",
      "Epoch 99/100\n",
      " - 0s - loss: 0.4617 - acc: 0.8550 - val_loss: 0.4455 - val_acc: 0.8800\n",
      "Epoch 100/100\n",
      " - 0s - loss: 0.4608 - acc: 0.8550 - val_loss: 0.4445 - val_acc: 0.8800\n"
     ]
    }
   ],
   "source": [
    "hist = model.fit(X_train, y_train, nb_epoch=100,batch_size=100,verbose=2, shuffle=True ,validation_data=(X_test, y_test))"
   ]
  },
  {
   "cell_type": "code",
   "execution_count": 11,
   "metadata": {},
   "outputs": [],
   "source": [
    "from sklearn.linear_model import LogisticRegression"
   ]
  },
  {
   "cell_type": "code",
   "execution_count": 12,
   "metadata": {},
   "outputs": [],
   "source": [
    "lr = LogisticRegression()"
   ]
  },
  {
   "cell_type": "code",
   "execution_count": 13,
   "metadata": {},
   "outputs": [
    {
     "data": {
      "text/plain": [
       "LogisticRegression(C=1.0, class_weight=None, dual=False, fit_intercept=True,\n",
       "          intercept_scaling=1, max_iter=100, multi_class='ovr', n_jobs=1,\n",
       "          penalty='l2', random_state=None, solver='liblinear', tol=0.0001,\n",
       "          verbose=0, warm_start=False)"
      ]
     },
     "execution_count": 13,
     "metadata": {},
     "output_type": "execute_result"
    }
   ],
   "source": [
    "lr.fit(X_train, y[:split])"
   ]
  },
  {
   "cell_type": "code",
   "execution_count": 14,
   "metadata": {},
   "outputs": [
    {
     "data": {
      "text/plain": [
       "0.355"
      ]
     },
     "execution_count": 14,
     "metadata": {},
     "output_type": "execute_result"
    }
   ],
   "source": [
    "lr.score(X_test, y[split:])"
   ]
  },
  {
   "cell_type": "code",
   "execution_count": 15,
   "metadata": {},
   "outputs": [
    {
     "name": "stdout",
     "output_type": "stream",
     "text": [
      "<class 'keras.engine.sequential.Sequential'>\n"
     ]
    }
   ],
   "source": [
    "print type(model)"
   ]
  },
  {
   "cell_type": "code",
   "execution_count": 16,
   "metadata": {},
   "outputs": [
    {
     "name": "stdout",
     "output_type": "stream",
     "text": [
      "{'acc': [0.5174999982118607, 0.544999998062849, 0.5549999959766865, 0.5737500004470348, 0.5787500068545341, 0.5812499895691872, 0.5900000035762787, 0.5949999913573265, 0.6012500002980232, 0.6137499958276749, 0.6212499961256981, 0.6287499964237213, 0.6462500020861626, 0.6575000062584877, 0.6674999967217445, 0.6762500032782555, 0.6850000023841858, 0.6950000077486038, 0.7062500044703484, 0.7150000035762787, 0.7199999988079071, 0.7250000089406967, 0.7300000041723251, 0.7350000068545341, 0.7424999922513962, 0.7512499913573265, 0.7525000050663948, 0.7650000005960464, 0.7824999988079071, 0.7799999862909317, 0.7912499904632568, 0.7987500056624413, 0.8062499910593033, 0.8087499961256981, 0.8137499988079071, 0.8237499892711639, 0.833749994635582, 0.8374999985098839, 0.8449999988079071, 0.8437500074505806, 0.8449999988079071, 0.8449999913573265, 0.8449999913573265, 0.8450000062584877, 0.8462499976158142, 0.8449999988079071, 0.8462500050663948, 0.8462499976158142, 0.8475000038743019, 0.8474999964237213, 0.8475000038743019, 0.8474999964237213, 0.8474999964237213, 0.8475000038743019, 0.8474999964237213, 0.8487499952316284, 0.848750002682209, 0.8487500101327896, 0.8487499952316284, 0.8487500101327896, 0.848750002682209, 0.8487499952316284, 0.848750002682209, 0.8487500101327896, 0.8487500101327896, 0.848750002682209, 0.848750002682209, 0.8499999940395355, 0.8500000014901161, 0.8500000014901161, 0.8500000014901161, 0.8499999940395355, 0.8500000014901161, 0.8512500002980232, 0.8512500077486038, 0.8512500002980232, 0.8512499928474426, 0.8512500077486038, 0.8512500077486038, 0.8512500002980232, 0.8512500002980232, 0.8512500002980232, 0.8512500002980232, 0.8512500002980232, 0.8512500002980232, 0.8512500002980232, 0.8512499928474426, 0.8512500002980232, 0.8512500002980232, 0.8524999991059303, 0.8524999991059303, 0.8524999916553497, 0.8524999916553497, 0.8524999991059303, 0.8524999916553497, 0.8524999991059303, 0.8524999916553497, 0.853750005364418, 0.8549999967217445, 0.8549999967217445], 'loss': [0.6545985266566277, 0.6369955763220787, 0.6271638423204422, 0.6197061240673065, 0.6135035380721092, 0.6079770028591156, 0.6030257493257523, 0.5984631925821304, 0.5942687913775444, 0.5902822837233543, 0.5865314304828644, 0.5829747319221497, 0.579660639166832, 0.5763616412878036, 0.5732825621962547, 0.5702318996191025, 0.567269504070282, 0.5645743384957314, 0.5619407594203949, 0.559455081820488, 0.5570785999298096, 0.5548203736543655, 0.5526413470506668, 0.5505390465259552, 0.5485064014792442, 0.5465340167284012, 0.5446115098893642, 0.5427707694470882, 0.5409461259841919, 0.5392166525125504, 0.5374963283538818, 0.5358337685465813, 0.5341919288039207, 0.532543495297432, 0.53102707862854, 0.5294704362750053, 0.5279840417206287, 0.526488620787859, 0.5250479392707348, 0.5236417800188065, 0.5222184583544731, 0.5208720080554485, 0.5195004791021347, 0.5181504003703594, 0.5168807841837406, 0.5155964456498623, 0.514299351722002, 0.51304130256176, 0.5118206590414047, 0.5105796009302139, 0.509419497102499, 0.5082721933722496, 0.5071043595671654, 0.5058555006980896, 0.5047290064394474, 0.5035963468253613, 0.5024777613580227, 0.5014217719435692, 0.5003095865249634, 0.499238945543766, 0.4981589987874031, 0.49709541350603104, 0.4960719719529152, 0.49498509243130684, 0.4939604364335537, 0.492935411632061, 0.4919075705111027, 0.49090977013111115, 0.48989057168364525, 0.48890555649995804, 0.4879099912941456, 0.4869132339954376, 0.48597538843750954, 0.48494746908545494, 0.48397551476955414, 0.48302192986011505, 0.4820462539792061, 0.4811266027390957, 0.48016756400465965, 0.47922002896666527, 0.4782663844525814, 0.4772915169596672, 0.47636358067393303, 0.4754292070865631, 0.4744879677891731, 0.47355491295456886, 0.472677331417799, 0.4717187099158764, 0.47078976035118103, 0.469888836145401, 0.46895812451839447, 0.468019288033247, 0.46710769832134247, 0.46619658544659615, 0.46531883627176285, 0.46438971906900406, 0.4635034091770649, 0.46258218958973885, 0.4617055021226406, 0.4607984349131584], 'val_acc': [0.5349999964237213, 0.5449999868869781, 0.5449999868869781, 0.5449999868869781, 0.5599999725818634, 0.5599999725818634, 0.5649999976158142, 0.570000022649765, 0.5850000083446503, 0.5999999940395355, 0.6100000143051147, 0.625, 0.6500000059604645, 0.6749999821186066, 0.7050000131130219, 0.7150000035762787, 0.7199999988079071, 0.7199999988079071, 0.7249999940395355, 0.7350000143051147, 0.75, 0.7600000202655792, 0.7700000107288361, 0.7800000011920929, 0.7849999964237213, 0.7949999868869781, 0.7949999868869781, 0.8100000023841858, 0.8199999928474426, 0.8299999833106995, 0.8299999833106995, 0.8349999785423279, 0.8349999785423279, 0.8349999785423279, 0.8349999785423279, 0.8400000035762787, 0.8449999988079071, 0.8600000143051147, 0.8600000143051147, 0.8600000143051147, 0.8600000143051147, 0.8600000143051147, 0.8600000143051147, 0.8600000143051147, 0.8600000143051147, 0.8600000143051147, 0.8600000143051147, 0.8600000143051147, 0.8600000143051147, 0.8600000143051147, 0.8600000143051147, 0.8600000143051147, 0.8600000143051147, 0.8600000143051147, 0.8600000143051147, 0.8650000095367432, 0.8650000095367432, 0.8650000095367432, 0.8650000095367432, 0.8650000095367432, 0.8650000095367432, 0.8650000095367432, 0.8650000095367432, 0.8650000095367432, 0.8700000047683716, 0.8700000047683716, 0.8700000047683716, 0.8700000047683716, 0.8700000047683716, 0.8700000047683716, 0.8700000047683716, 0.8700000047683716, 0.8700000047683716, 0.8700000047683716, 0.8700000047683716, 0.8700000047683716, 0.8700000047683716, 0.8700000047683716, 0.8700000047683716, 0.8700000047683716, 0.875, 0.8799999952316284, 0.8799999952316284, 0.8799999952316284, 0.8799999952316284, 0.8799999952316284, 0.8799999952316284, 0.8799999952316284, 0.8799999952316284, 0.8799999952316284, 0.8799999952316284, 0.8799999952316284, 0.8799999952316284, 0.8799999952316284, 0.8799999952316284, 0.8799999952316284, 0.8799999952316284, 0.8799999952316284, 0.8799999952316284, 0.8799999952316284], 'val_loss': [0.6393415927886963, 0.6270001530647278, 0.6180239319801331, 0.6107523143291473, 0.6047168672084808, 0.5994411408901215, 0.5946801602840424, 0.5903383791446686, 0.5863348841667175, 0.5825249254703522, 0.578906923532486, 0.5754255056381226, 0.5721090137958527, 0.5688970386981964, 0.5656699240207672, 0.5625450015068054, 0.5595674812793732, 0.5567325353622437, 0.5540322065353394, 0.551406741142273, 0.548879861831665, 0.5464378595352173, 0.5440690517425537, 0.5417833030223846, 0.5395866930484772, 0.5374419391155243, 0.5353494584560394, 0.5333235263824463, 0.5313417315483093, 0.5293988883495331, 0.5275194346904755, 0.5256804823875427, 0.5238969326019287, 0.5221429765224457, 0.5204260647296906, 0.5187442898750305, 0.5170962512493134, 0.5154839158058167, 0.513900488615036, 0.5123447477817535, 0.5108052045106888, 0.5093015879392624, 0.5078163892030716, 0.5063527077436447, 0.5049194097518921, 0.5035056918859482, 0.5021086782217026, 0.5007419586181641, 0.4993947297334671, 0.49806904792785645, 0.49676352739334106, 0.4954818785190582, 0.4942186325788498, 0.4929763972759247, 0.49174903333187103, 0.49053023755550385, 0.48931270837783813, 0.4880957007408142, 0.4869074076414108, 0.4857354015111923, 0.48457135260105133, 0.4834202378988266, 0.48228105902671814, 0.48115120828151703, 0.48003366589546204, 0.4789246618747711, 0.47782954573631287, 0.47674039006233215, 0.47565582394599915, 0.47457441687583923, 0.4735098034143448, 0.4724493622779846, 0.4714075177907944, 0.4703616201877594, 0.46932242810726166, 0.4682897478342056, 0.4672603905200958, 0.4662368893623352, 0.4652195870876312, 0.4642074853181839, 0.4632042795419693, 0.46220389008522034, 0.46120406687259674, 0.46021130681037903, 0.4592175930738449, 0.4582299739122391, 0.4572467803955078, 0.45626766979694366, 0.4552787244319916, 0.4542911797761917, 0.45331062376499176, 0.4523274898529053, 0.4513499289751053, 0.4503780007362366, 0.4494025409221649, 0.44842375814914703, 0.44743891060352325, 0.44645196199417114, 0.44546958804130554, 0.44448211789131165]}\n"
     ]
    }
   ],
   "source": [
    "data = hist.history\n",
    "print data"
   ]
  },
  {
   "cell_type": "code",
   "execution_count": 17,
   "metadata": {},
   "outputs": [
    {
     "data": {
      "image/png": "[encoded data removed]",
      "text/plain": [
       "<Figure size 432x288 with 1 Axes>"
      ]
     },
     "metadata": {},
     "output_type": "display_data"
    }
   ],
   "source": [
    "plt.plot(data['loss'])\n",
    "plt.plot(data['val_loss'])\n",
    "plt.show()"
   ]
  },
  {
   "cell_type": "code",
   "execution_count": null,
   "metadata": {
    "collapsed": true
   },
   "outputs": [],
   "source": []
  }
 ],
 "metadata": {
  "kernelspec": {
   "display_name": "Python 2",
   "language": "python",
   "name": "python2"
  },
  "language_info": {
   "codemirror_mode": {
    "name": "ipython",
    "version": 2
   },
   "file_extension": ".py",
   "mimetype": "text/x-python",
   "name": "python",
   "nbconvert_exporter": "python",
   "pygments_lexer": "ipython2",
   "version": "2.7.12"
  }
 },
 "nbformat": 4,
 "nbformat_minor": 2
}
